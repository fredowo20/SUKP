{
 "cells": [
  {
   "cell_type": "code",
   "execution_count": 5,
   "metadata": {},
   "outputs": [
    {
     "name": "stdout",
     "output_type": "stream",
     "text": [
      "120\n"
     ]
    }
   ],
   "source": [
    "def knapsack_dynamic(elements, items, profits, max_weight):\n",
    "    # Initialize a 2D array with all -1s\n",
    "    # Rows represent items, columns represent weight\n",
    "    dp = [[-1 for _ in range(max_weight + 1)] for _ in range(len(items) + 1)]\n",
    "    \n",
    "    # Helper function to calculate the weight of an item\n",
    "    def get_weight(item):\n",
    "        weight = 0\n",
    "        for i in range(len(item)):\n",
    "            if item[i] == 1:\n",
    "                weight += elements[i]\n",
    "        return weight\n",
    "\n",
    "    # Helper function to calculate the maximum value for a given weight and set of items\n",
    "    def knapsack_helper(items, max_weight, idx, dp):\n",
    "        # If the weight is 0 or there are no more items, return 0\n",
    "        if max_weight == 0 or idx == 0:\n",
    "            return 0\n",
    "\n",
    "        # If the result is already calculated, return it\n",
    "        if dp[idx][max_weight] != -1:\n",
    "            return dp[idx][max_weight]\n",
    "\n",
    "        # If the weight of the current item is greater than the current weight,\n",
    "        # skip the current item\n",
    "        if get_weight(items[idx-1]) > max_weight:\n",
    "            dp[idx][max_weight] = knapsack_helper(items, max_weight, idx-1, dp)\n",
    "            return dp[idx][max_weight]\n",
    "\n",
    "        # The maximum value is the maximum of either the value without the current item,\n",
    "        # or the value with the current item plus the value of the remaining weight\n",
    "        dp[idx][max_weight] = max(knapsack_helper(items, max_weight, idx-1, dp), profits[idx-1] + knapsack_helper(items, max_weight - get_weight(items[idx-1]), idx-1, dp))\n",
    "        return dp[idx][max_weight]\n",
    "\n",
    "    # Return the maximum value that can be achieved with the given weight constraint\n",
    "    return knapsack_helper(items, max_weight, len(items), dp)\n",
    "\n",
    "# Example usage\n",
    "elements = [10, 20, 30]\n",
    "items = [[1, 1, 0], [1, 0, 1], [0, 1, 1]]\n",
    "profits = [60, 100, 120]\n",
    "max_weight = 50\n",
    "\n",
    "print(knapsack_dynamic(elements, items, profits, max_weight))\n"
   ]
  },
  {
   "cell_type": "code",
   "execution_count": 6,
   "metadata": {},
   "outputs": [
    {
     "name": "stdout",
     "output_type": "stream",
     "text": [
      "100\n"
     ]
    }
   ],
   "source": [
    "def knapsack_greedy(elements, items, profits, max_weight):\n",
    "    # Helper function to calculate the weight of an item\n",
    "    def get_weight(item):\n",
    "        weight = 0\n",
    "        for i in range(len(item)):\n",
    "            if item[i] == 1:\n",
    "                weight += elements[i]\n",
    "        return weight\n",
    "\n",
    "    # Helper function to calculate the value/weight ratio of an item\n",
    "    def get_value_per_weight(item):\n",
    "        return profits[item] / get_weight(items[item])\n",
    "\n",
    "    # Initialize an empty knapsack\n",
    "    knapsack_weight = 0\n",
    "    knapsack_profit = 0\n",
    "\n",
    "    # Sort items by value/weight ratio\n",
    "    item_list = list(range(len(items)))\n",
    "    item_list.sort(key=get_value_per_weight, reverse=True)\n",
    "\n",
    "    # Iterate through items and add them to the knapsack if they fit\n",
    "    for item in item_list:\n",
    "        if knapsack_weight + get_weight(items[item]) <= max_weight:\n",
    "            knapsack_weight += get_weight(items[item])\n",
    "            knapsack_profit += profits[item]\n",
    "\n",
    "    # Return the items in the knapsack and the total profit\n",
    "    return knapsack_profit\n",
    "\n",
    "# Example usage\n",
    "elements = [10, 20, 30]\n",
    "items = [[1, 1, 0], [1, 0, 1], [0, 1, 1]]\n",
    "profits = [60, 100, 120]\n",
    "max_weight = 50\n",
    "print(knapsack_greedy(elements, items, profits, max_weight))\n"
   ]
  },
  {
   "cell_type": "code",
   "execution_count": 2,
   "metadata": {},
   "outputs": [
    {
     "name": "stdout",
     "output_type": "stream",
     "text": [
      "280\n"
     ]
    }
   ],
   "source": [
    "def knapsack_bruteForce(elements, items, profits, max_weight):\n",
    "    # Helper function to calculate the weight of an item\n",
    "    def get_weight(item):\n",
    "        weight = 0\n",
    "        for i in range(len(item)):\n",
    "            if item[i] == 1:\n",
    "                weight += elements[i]\n",
    "        return weight\n",
    "\n",
    "    # Helper function to generate all possible subsets of items\n",
    "    def subsets(items):\n",
    "        subsets = [[]]\n",
    "        for item in items:\n",
    "            for i in range(len(subsets)):\n",
    "                subsets.append(subsets[i] + [item])\n",
    "        return subsets\n",
    "\n",
    "    # Initialize the maximum profit and the best subset of items\n",
    "    max_profit = 0\n",
    "    best_subset = []\n",
    "    all_subsets = subsets(range(len(items)))\n",
    "    for subset in all_subsets:\n",
    "        subset_items = [items[i] for i in subset]\n",
    "        if get_weight(subset_items) <= max_weight:\n",
    "            subset_profit = sum([profits[i] for i in subset])\n",
    "            if subset_profit > max_profit:\n",
    "                max_profit = subset_profit\n",
    "                best_subset = subset_items\n",
    "    return max_profit\n",
    "\n",
    "# Example usage\n",
    "elements = [10, 20, 30]\n",
    "items = [[1, 1, 0], [1, 0, 1], [0, 1, 1]]\n",
    "profits = [60, 100, 120]\n",
    "max_weight = 50\n",
    "print(knapsack_bruteForce(elements, items, profits, max_weight))\n"
   ]
  },
  {
   "cell_type": "code",
   "execution_count": 3,
   "metadata": {},
   "outputs": [],
   "source": [
    "import pandas as pd\n",
    "pd.options.mode.chained_assignment = None  # default='warn'\n",
    "import numpy as np\n",
    "\n",
    "# Selection of instance\n",
    "data = pd.read_csv('../Instances/InstancesofSetI/85_100_0.10_0.75.txt', header=None)\n",
    "\n",
    "n_items = data[0][0]\n",
    "n_elements = data[0][1]\n",
    "max_weight = int(data[0][2])\n",
    "\n",
    "profits = str(data[0][3]).split()\n",
    "for i in range(len(profits)):\n",
    "    profits[i] = int(profits[i])\n",
    "\n",
    "elements = str(data[0][4]).split()\n",
    "for i in range(len(elements)):\n",
    "    elements[i] = int(elements[i])\n",
    "\n",
    "items = data.tail(-5)\n",
    "items.reset_index(inplace = True, drop = True)\n",
    "\n",
    "for i in range(len(items)):\n",
    "    items[0][i] = str(items[0][i]).split()\n",
    "for i in range(len(items)):\n",
    "    for j in range(len(elements)):\n",
    "        items[0][i][j] = int(items[0][i][j])\n",
    "\n",
    "items = items[0].values.tolist()\n"
   ]
  },
  {
   "cell_type": "code",
   "execution_count": 9,
   "metadata": {},
   "outputs": [
    {
     "name": "stdout",
     "output_type": "stream",
     "text": [
      "5453\n"
     ]
    }
   ],
   "source": [
    "print(knapsack_dynamic(elements, items, profits, max_weight))"
   ]
  },
  {
   "cell_type": "code",
   "execution_count": 10,
   "metadata": {},
   "outputs": [
    {
     "name": "stdout",
     "output_type": "stream",
     "text": [
      "5453\n"
     ]
    }
   ],
   "source": [
    "print(knapsack_greedy(elements, items, profits, max_weight))"
   ]
  },
  {
   "cell_type": "code",
   "execution_count": 4,
   "metadata": {},
   "outputs": [],
   "source": [
    "print(knapsack_bruteForce(elements, items, profits, max_weight))"
   ]
  }
 ],
 "metadata": {
  "kernelspec": {
   "display_name": "Python 3",
   "language": "python",
   "name": "python3"
  },
  "language_info": {
   "codemirror_mode": {
    "name": "ipython",
    "version": 3
   },
   "file_extension": ".py",
   "mimetype": "text/x-python",
   "name": "python",
   "nbconvert_exporter": "python",
   "pygments_lexer": "ipython3",
   "version": "3.9.13"
  },
  "orig_nbformat": 4,
  "vscode": {
   "interpreter": {
    "hash": "2788042604e774a13887fb93638f8eb90673225097f3dc20f490326b20a49a42"
   }
  }
 },
 "nbformat": 4,
 "nbformat_minor": 2
}
